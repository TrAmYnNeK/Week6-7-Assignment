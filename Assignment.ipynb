{
 "cells": [
  {
   "cell_type": "code",
   "execution_count": null,
   "id": "518dd8e2",
   "metadata": {},
   "outputs": [],
   "source": [
    "import pandas as pd\n",
    "\n",
    "# Load the dataset\n",
    "df = pd.read_csv(\"sample_dataset.csv\")\n",
    "\n",
    "# Display the first few rows\n",
    "print(df.head())\n",
    "\n",
    "# Check data types and missing values\n",
    "print(\"\\nDataset Info:\")\n",
    "print(df.info())\n",
    "\n",
    "# Display missing values\n",
    "print(\"\\nMissing Values:\")\n",
    "print(df.isnull().sum())\n",
    "\n",
    "# Clean the data by filling missing values with the column mean\n",
    "df['Sales'].fillna(df['Sales'].mean(), inplace=True)\n",
    "df['Profit'].fillna(df['Profit'].mean(), inplace=True)\n"
   ]
  },
  {
   "cell_type": "code",
   "execution_count": null,
   "id": "a738f658",
   "metadata": {},
   "outputs": [],
   "source": [
    "# Basic statistics\n",
    "print(\"\\nSummary Statistics:\")\n",
    "print(df.describe())\n",
    "\n",
    "# Group by 'Category' and calculate average Sales\n",
    "grouped = df.groupby('Category')['Sales'].mean()\n",
    "print(\"\\nAverage Sales by Category:\")\n",
    "print(grouped)\n",
    "\n",
    "# Observations\n",
    "print(\"\\nObservations:\")\n",
    "print(\"- Categories show differences in average sales.\")\n",
    "print(\"- Profit and Sales values show a typical spread with some outliers.\")\n"
   ]
  },
  {
   "cell_type": "code",
   "execution_count": null,
   "id": "809f2f62",
   "metadata": {},
   "outputs": [],
   "source": [
    "import matplotlib.pyplot as plt\n",
    "\n",
    "# Line Chart - Sales over Time\n",
    "plt.figure(figsize=(10, 5))\n",
    "plt.plot(df['Date'], df['Sales'], label='Sales', color='blue')\n",
    "plt.title(\"Sales Over Time\")\n",
    "plt.xlabel(\"Date\")\n",
    "plt.ylabel(\"Sales\")\n",
    "plt.legend()\n",
    "plt.xticks(rotation=45)\n",
    "plt.tight_layout()\n",
    "plt.show()\n",
    "\n",
    "# Bar Chart - Average Sales by Category\n",
    "plt.figure(figsize=(6, 4))\n",
    "df.groupby('Category')['Sales'].mean().plot(kind='bar', color='green')\n",
    "plt.title(\"Average Sales by Category\")\n",
    "plt.xlabel(\"Category\")\n",
    "plt.ylabel(\"Average Sales\")\n",
    "plt.tight_layout()\n",
    "plt.show()\n",
    "\n",
    "# Histogram - Profit Distribution\n",
    "plt.figure(figsize=(6, 4))\n",
    "df['Profit'].hist(bins=15, color='skyblue')\n",
    "plt.title(\"Distribution of Profit\")\n",
    "plt.xlabel(\"Profit\")\n",
    "plt.ylabel(\"Frequency\")\n",
    "plt.tight_layout()\n",
    "plt.show()\n",
    "\n",
    "# Scatter Plot - Sales vs. Profit\n",
    "plt.figure(figsize=(6, 4))\n",
    "plt.scatter(df['Sales'], df['Profit'], alpha=0.7, color='purple')\n",
    "plt.title(\"Sales vs. Profit\")\n",
    "plt.xlabel(\"Sales\")\n",
    "plt.ylabel(\"Profit\")\n",
    "plt.tight_layout()\n",
    "plt.show()\n"
   ]
  }
 ],
 "metadata": {
  "kernelspec": {
   "display_name": "Python 3",
   "language": "python",
   "name": "python3"
  },
  "language_info": {
   "codemirror_mode": {
    "name": "ipython",
    "version": 3
   },
   "file_extension": ".py",
   "mimetype": "text/x-python",
   "name": "python",
   "nbconvert_exporter": "python",
   "pygments_lexer": "ipython3",
   "version": "3.13.2"
  }
 },
 "nbformat": 4,
 "nbformat_minor": 5
}
